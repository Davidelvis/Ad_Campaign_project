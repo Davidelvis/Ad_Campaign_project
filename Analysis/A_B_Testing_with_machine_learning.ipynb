{
  "nbformat": 4,
  "nbformat_minor": 0,
  "metadata": {
    "colab": {
      "name": "A/B_Testing_with_machine_learning.ipynb",
      "provenance": []
    },
    "kernelspec": {
      "name": "python3",
      "display_name": "Python 3"
    }
  },
  "cells": [
    {
      "cell_type": "markdown",
      "metadata": {
        "id": "_M3bbx4LogKV",
        "colab_type": "text"
      },
      "source": [
        "# A/B TESTING WITH MACHINE LEARNING"
      ]
    },
    {
      "cell_type": "markdown",
      "metadata": {
        "id": "3YuiwxlOosFk",
        "colab_type": "text"
      },
      "source": [
        ""
      ]
    },
    {
      "cell_type": "markdown",
      "metadata": {
        "id": "kjuTDK7DVV49",
        "colab_type": "text"
      },
      "source": [
        "## Loading Libraries we will use in the project"
      ]
    },
    {
      "cell_type": "code",
      "metadata": {
        "id": "uiySadrAKxkE",
        "colab_type": "code",
        "colab": {}
      },
      "source": [
        "#importing libraries for the project\n",
        "import pandas as pd\n",
        "import sklearn.utils\n",
        "from matplotlib import pyplot\n",
        "import numpy as np\n",
        "from sklearn.tree import DecisionTreeRegressor\n",
        "from matplotlib import pyplot\n",
        "from sklearn.datasets import make_regression\n",
        "from sklearn.preprocessing import StandardScaler\n",
        "from keras.models import Sequential\n",
        "from keras.layers import Dense\n",
        "from keras.optimizers import SGD\n",
        "from sklearn.model_selection import train_test_split\n",
        "from sklearn.model_selection import KFold\n",
        "from sklearn.model_selection import cross_val_score\n",
        "from sklearn.preprocessing import MinMaxScaler\n",
        "from sklearn.preprocessing import LabelEncoder\n",
        "from sklearn.tree import DecisionTreeClassifier\n",
        "import xgboost\n",
        "from xgboost import XGBClassifier\n",
        "from sklearn.linear_model import LogisticRegression\n",
        "from sklearn import tree\n",
        "from sklearn.metrics import accuracy_score\n",
        "from sklearn.svm import SVR\n",
        "import seaborn as sns\n",
        "import matplotlib.pyplot as plt"
      ],
      "execution_count": null,
      "outputs": []
    },
    {
      "cell_type": "markdown",
      "metadata": {
        "id": "LC1Z7gHXK8-R",
        "colab_type": "text"
      },
      "source": [
        "## Data Loading"
      ]
    },
    {
      "cell_type": "code",
      "metadata": {
        "id": "ecyXneGHL8EE",
        "colab_type": "code",
        "colab": {}
      },
      "source": [
        "# loading data using pandas\n",
        "exposed_data=pd.read_csv('/content/Exposed_group_data.csv')\n",
        "control_data=pd.read_csv('/content/control_group_data.csv')"
      ],
      "execution_count": 3,
      "outputs": []
    },
    {
      "cell_type": "code",
      "metadata": {
        "id": "XRMNxtlNNWPp",
        "colab_type": "code",
        "colab": {
          "base_uri": "https://localhost:8080/",
          "height": 195
        },
        "outputId": "ec9253e2-914b-47a2-8b89-2f2f537d8e67"
      },
      "source": [
        "#\n",
        "exposed_data.head()"
      ],
      "execution_count": 4,
      "outputs": [
        {
          "output_type": "execute_result",
          "data": {
            "text/html": [
              "<div>\n",
              "<style scoped>\n",
              "    .dataframe tbody tr th:only-of-type {\n",
              "        vertical-align: middle;\n",
              "    }\n",
              "\n",
              "    .dataframe tbody tr th {\n",
              "        vertical-align: top;\n",
              "    }\n",
              "\n",
              "    .dataframe thead th {\n",
              "        text-align: right;\n",
              "    }\n",
              "</style>\n",
              "<table border=\"1\" class=\"dataframe\">\n",
              "  <thead>\n",
              "    <tr style=\"text-align: right;\">\n",
              "      <th></th>\n",
              "      <th>auction_id</th>\n",
              "      <th>experiment</th>\n",
              "      <th>date</th>\n",
              "      <th>hour</th>\n",
              "      <th>device_make</th>\n",
              "      <th>platform_os</th>\n",
              "      <th>browser</th>\n",
              "      <th>yes</th>\n",
              "      <th>no</th>\n",
              "    </tr>\n",
              "  </thead>\n",
              "  <tbody>\n",
              "    <tr>\n",
              "      <th>0</th>\n",
              "      <td>0008ef63-77a7-448b-bd1e-075f42c55e39</td>\n",
              "      <td>exposed</td>\n",
              "      <td>2020-07-10</td>\n",
              "      <td>8</td>\n",
              "      <td>Generic Smartphone</td>\n",
              "      <td>6</td>\n",
              "      <td>Chrome Mobile</td>\n",
              "      <td>0</td>\n",
              "      <td>0</td>\n",
              "    </tr>\n",
              "    <tr>\n",
              "      <th>1</th>\n",
              "      <td>000eabc5-17ce-4137-8efe-44734d914446</td>\n",
              "      <td>exposed</td>\n",
              "      <td>2020-07-07</td>\n",
              "      <td>10</td>\n",
              "      <td>Generic Smartphone</td>\n",
              "      <td>6</td>\n",
              "      <td>Chrome Mobile</td>\n",
              "      <td>0</td>\n",
              "      <td>0</td>\n",
              "    </tr>\n",
              "    <tr>\n",
              "      <th>2</th>\n",
              "      <td>0016d14a-ae18-4a02-a204-6ba53b52f2ed</td>\n",
              "      <td>exposed</td>\n",
              "      <td>2020-07-05</td>\n",
              "      <td>2</td>\n",
              "      <td>E5823</td>\n",
              "      <td>6</td>\n",
              "      <td>Chrome Mobile WebView</td>\n",
              "      <td>0</td>\n",
              "      <td>1</td>\n",
              "    </tr>\n",
              "    <tr>\n",
              "      <th>3</th>\n",
              "      <td>004940f5-c642-417a-8fd2-c8e5d989f358</td>\n",
              "      <td>exposed</td>\n",
              "      <td>2020-07-04</td>\n",
              "      <td>0</td>\n",
              "      <td>Generic Smartphone</td>\n",
              "      <td>6</td>\n",
              "      <td>Chrome Mobile WebView</td>\n",
              "      <td>0</td>\n",
              "      <td>0</td>\n",
              "    </tr>\n",
              "    <tr>\n",
              "      <th>4</th>\n",
              "      <td>006b9c6e-5f5d-4385-a811-ff20a24b30ac</td>\n",
              "      <td>exposed</td>\n",
              "      <td>2020-07-06</td>\n",
              "      <td>8</td>\n",
              "      <td>Samsung SM-G973F</td>\n",
              "      <td>6</td>\n",
              "      <td>Chrome Mobile WebView</td>\n",
              "      <td>0</td>\n",
              "      <td>0</td>\n",
              "    </tr>\n",
              "  </tbody>\n",
              "</table>\n",
              "</div>"
            ],
            "text/plain": [
              "                             auction_id experiment  ... yes  no\n",
              "0  0008ef63-77a7-448b-bd1e-075f42c55e39    exposed  ...   0   0\n",
              "1  000eabc5-17ce-4137-8efe-44734d914446    exposed  ...   0   0\n",
              "2  0016d14a-ae18-4a02-a204-6ba53b52f2ed    exposed  ...   0   1\n",
              "3  004940f5-c642-417a-8fd2-c8e5d989f358    exposed  ...   0   0\n",
              "4  006b9c6e-5f5d-4385-a811-ff20a24b30ac    exposed  ...   0   0\n",
              "\n",
              "[5 rows x 9 columns]"
            ]
          },
          "metadata": {
            "tags": []
          },
          "execution_count": 4
        }
      ]
    },
    {
      "cell_type": "code",
      "metadata": {
        "id": "qUUNGFiyTmG1",
        "colab_type": "code",
        "colab": {}
      },
      "source": [
        "exp_data=(exposed_data.groupby('date')\n",
        "      .agg(pageviews=('yes','count'),yes=('yes','sum'),no=('no','sum'),hours=('hour','sum'))\n",
        "      .reset_index()\n",
        "       )"
      ],
      "execution_count": 5,
      "outputs": []
    },
    {
      "cell_type": "code",
      "metadata": {
        "id": "drSyH70dTtK3",
        "colab_type": "code",
        "colab": {
          "base_uri": "https://localhost:8080/",
          "height": 284
        },
        "outputId": "9bcb5208-fb17-45c6-fa5d-5bc8efb17779"
      },
      "source": [
        "exp_data"
      ],
      "execution_count": 6,
      "outputs": [
        {
          "output_type": "execute_result",
          "data": {
            "text/html": [
              "<div>\n",
              "<style scoped>\n",
              "    .dataframe tbody tr th:only-of-type {\n",
              "        vertical-align: middle;\n",
              "    }\n",
              "\n",
              "    .dataframe tbody tr th {\n",
              "        vertical-align: top;\n",
              "    }\n",
              "\n",
              "    .dataframe thead th {\n",
              "        text-align: right;\n",
              "    }\n",
              "</style>\n",
              "<table border=\"1\" class=\"dataframe\">\n",
              "  <thead>\n",
              "    <tr style=\"text-align: right;\">\n",
              "      <th></th>\n",
              "      <th>date</th>\n",
              "      <th>pageviews</th>\n",
              "      <th>yes</th>\n",
              "      <th>no</th>\n",
              "      <th>hours</th>\n",
              "    </tr>\n",
              "  </thead>\n",
              "  <tbody>\n",
              "    <tr>\n",
              "      <th>0</th>\n",
              "      <td>2020-07-03</td>\n",
              "      <td>470</td>\n",
              "      <td>43</td>\n",
              "      <td>49</td>\n",
              "      <td>3986</td>\n",
              "    </tr>\n",
              "    <tr>\n",
              "      <th>1</th>\n",
              "      <td>2020-07-04</td>\n",
              "      <td>477</td>\n",
              "      <td>46</td>\n",
              "      <td>45</td>\n",
              "      <td>5114</td>\n",
              "    </tr>\n",
              "    <tr>\n",
              "      <th>2</th>\n",
              "      <td>2020-07-05</td>\n",
              "      <td>528</td>\n",
              "      <td>35</td>\n",
              "      <td>39</td>\n",
              "      <td>5506</td>\n",
              "    </tr>\n",
              "    <tr>\n",
              "      <th>3</th>\n",
              "      <td>2020-07-06</td>\n",
              "      <td>294</td>\n",
              "      <td>23</td>\n",
              "      <td>25</td>\n",
              "      <td>1717</td>\n",
              "    </tr>\n",
              "    <tr>\n",
              "      <th>4</th>\n",
              "      <td>2020-07-07</td>\n",
              "      <td>257</td>\n",
              "      <td>22</td>\n",
              "      <td>24</td>\n",
              "      <td>2767</td>\n",
              "    </tr>\n",
              "    <tr>\n",
              "      <th>5</th>\n",
              "      <td>2020-07-08</td>\n",
              "      <td>714</td>\n",
              "      <td>58</td>\n",
              "      <td>61</td>\n",
              "      <td>10899</td>\n",
              "    </tr>\n",
              "    <tr>\n",
              "      <th>6</th>\n",
              "      <td>2020-07-09</td>\n",
              "      <td>728</td>\n",
              "      <td>55</td>\n",
              "      <td>64</td>\n",
              "      <td>8177</td>\n",
              "    </tr>\n",
              "    <tr>\n",
              "      <th>7</th>\n",
              "      <td>2020-07-10</td>\n",
              "      <td>538</td>\n",
              "      <td>26</td>\n",
              "      <td>42</td>\n",
              "      <td>4765</td>\n",
              "    </tr>\n",
              "  </tbody>\n",
              "</table>\n",
              "</div>"
            ],
            "text/plain": [
              "         date  pageviews  yes  no  hours\n",
              "0  2020-07-03        470   43  49   3986\n",
              "1  2020-07-04        477   46  45   5114\n",
              "2  2020-07-05        528   35  39   5506\n",
              "3  2020-07-06        294   23  25   1717\n",
              "4  2020-07-07        257   22  24   2767\n",
              "5  2020-07-08        714   58  61  10899\n",
              "6  2020-07-09        728   55  64   8177\n",
              "7  2020-07-10        538   26  42   4765"
            ]
          },
          "metadata": {
            "tags": []
          },
          "execution_count": 6
        }
      ]
    },
    {
      "cell_type": "code",
      "metadata": {
        "id": "uv7qw3weNcwO",
        "colab_type": "code",
        "colab": {
          "base_uri": "https://localhost:8080/",
          "height": 195
        },
        "outputId": "e6113efb-9021-48e9-c75a-27bf255960ce"
      },
      "source": [
        "control_data.head()"
      ],
      "execution_count": 7,
      "outputs": [
        {
          "output_type": "execute_result",
          "data": {
            "text/html": [
              "<div>\n",
              "<style scoped>\n",
              "    .dataframe tbody tr th:only-of-type {\n",
              "        vertical-align: middle;\n",
              "    }\n",
              "\n",
              "    .dataframe tbody tr th {\n",
              "        vertical-align: top;\n",
              "    }\n",
              "\n",
              "    .dataframe thead th {\n",
              "        text-align: right;\n",
              "    }\n",
              "</style>\n",
              "<table border=\"1\" class=\"dataframe\">\n",
              "  <thead>\n",
              "    <tr style=\"text-align: right;\">\n",
              "      <th></th>\n",
              "      <th>auction_id</th>\n",
              "      <th>experiment</th>\n",
              "      <th>date</th>\n",
              "      <th>hour</th>\n",
              "      <th>device_make</th>\n",
              "      <th>platform_os</th>\n",
              "      <th>browser</th>\n",
              "      <th>yes</th>\n",
              "      <th>no</th>\n",
              "    </tr>\n",
              "  </thead>\n",
              "  <tbody>\n",
              "    <tr>\n",
              "      <th>0</th>\n",
              "      <td>00187412-2932-4542-a8ef-3633901c98d9</td>\n",
              "      <td>control</td>\n",
              "      <td>2020-07-03</td>\n",
              "      <td>15</td>\n",
              "      <td>Samsung SM-A705FN</td>\n",
              "      <td>6</td>\n",
              "      <td>Facebook</td>\n",
              "      <td>0</td>\n",
              "      <td>0</td>\n",
              "    </tr>\n",
              "    <tr>\n",
              "      <th>1</th>\n",
              "      <td>001a7785-d3fe-4e11-a344-c8735acacc2c</td>\n",
              "      <td>control</td>\n",
              "      <td>2020-07-03</td>\n",
              "      <td>15</td>\n",
              "      <td>Generic Smartphone</td>\n",
              "      <td>6</td>\n",
              "      <td>Chrome Mobile</td>\n",
              "      <td>0</td>\n",
              "      <td>0</td>\n",
              "    </tr>\n",
              "    <tr>\n",
              "      <th>2</th>\n",
              "      <td>0027ce48-d3c6-4935-bb12-dfb5d5627857</td>\n",
              "      <td>control</td>\n",
              "      <td>2020-07-03</td>\n",
              "      <td>15</td>\n",
              "      <td>Samsung SM-G960F</td>\n",
              "      <td>6</td>\n",
              "      <td>Facebook</td>\n",
              "      <td>0</td>\n",
              "      <td>0</td>\n",
              "    </tr>\n",
              "    <tr>\n",
              "      <th>3</th>\n",
              "      <td>002e308b-1a07-49d6-8560-0fbcdcd71e4b</td>\n",
              "      <td>control</td>\n",
              "      <td>2020-07-03</td>\n",
              "      <td>15</td>\n",
              "      <td>Generic Smartphone</td>\n",
              "      <td>6</td>\n",
              "      <td>Chrome Mobile</td>\n",
              "      <td>0</td>\n",
              "      <td>0</td>\n",
              "    </tr>\n",
              "    <tr>\n",
              "      <th>4</th>\n",
              "      <td>00393fb9-ca32-40c0-bfcb-1bd83f319820</td>\n",
              "      <td>control</td>\n",
              "      <td>2020-07-09</td>\n",
              "      <td>5</td>\n",
              "      <td>Samsung SM-G973F</td>\n",
              "      <td>6</td>\n",
              "      <td>Facebook</td>\n",
              "      <td>0</td>\n",
              "      <td>0</td>\n",
              "    </tr>\n",
              "  </tbody>\n",
              "</table>\n",
              "</div>"
            ],
            "text/plain": [
              "                             auction_id experiment  ... yes  no\n",
              "0  00187412-2932-4542-a8ef-3633901c98d9    control  ...   0   0\n",
              "1  001a7785-d3fe-4e11-a344-c8735acacc2c    control  ...   0   0\n",
              "2  0027ce48-d3c6-4935-bb12-dfb5d5627857    control  ...   0   0\n",
              "3  002e308b-1a07-49d6-8560-0fbcdcd71e4b    control  ...   0   0\n",
              "4  00393fb9-ca32-40c0-bfcb-1bd83f319820    control  ...   0   0\n",
              "\n",
              "[5 rows x 9 columns]"
            ]
          },
          "metadata": {
            "tags": []
          },
          "execution_count": 7
        }
      ]
    },
    {
      "cell_type": "code",
      "metadata": {
        "id": "sk0Al9p1V4v0",
        "colab_type": "code",
        "colab": {}
      },
      "source": [
        "cont_data=(control_data.groupby('date')\n",
        "      .agg(pageviews=('yes','count'),yes=('yes','sum'),no=('no','sum'),hours=('hour','sum'))\n",
        "      .reset_index()\n",
        "       )"
      ],
      "execution_count": 8,
      "outputs": []
    },
    {
      "cell_type": "code",
      "metadata": {
        "id": "o8BX-fHZWA9H",
        "colab_type": "code",
        "colab": {
          "base_uri": "https://localhost:8080/",
          "height": 284
        },
        "outputId": "5760babb-b116-4360-f945-317425782901"
      },
      "source": [
        "cont_data"
      ],
      "execution_count": 9,
      "outputs": [
        {
          "output_type": "execute_result",
          "data": {
            "text/html": [
              "<div>\n",
              "<style scoped>\n",
              "    .dataframe tbody tr th:only-of-type {\n",
              "        vertical-align: middle;\n",
              "    }\n",
              "\n",
              "    .dataframe tbody tr th {\n",
              "        vertical-align: top;\n",
              "    }\n",
              "\n",
              "    .dataframe thead th {\n",
              "        text-align: right;\n",
              "    }\n",
              "</style>\n",
              "<table border=\"1\" class=\"dataframe\">\n",
              "  <thead>\n",
              "    <tr style=\"text-align: right;\">\n",
              "      <th></th>\n",
              "      <th>date</th>\n",
              "      <th>pageviews</th>\n",
              "      <th>yes</th>\n",
              "      <th>no</th>\n",
              "      <th>hours</th>\n",
              "    </tr>\n",
              "  </thead>\n",
              "  <tbody>\n",
              "    <tr>\n",
              "      <th>0</th>\n",
              "      <td>2020-07-03</td>\n",
              "      <td>1545</td>\n",
              "      <td>104</td>\n",
              "      <td>129</td>\n",
              "      <td>23177</td>\n",
              "    </tr>\n",
              "    <tr>\n",
              "      <th>1</th>\n",
              "      <td>2020-07-04</td>\n",
              "      <td>426</td>\n",
              "      <td>30</td>\n",
              "      <td>38</td>\n",
              "      <td>4164</td>\n",
              "    </tr>\n",
              "    <tr>\n",
              "      <th>2</th>\n",
              "      <td>2020-07-05</td>\n",
              "      <td>362</td>\n",
              "      <td>17</td>\n",
              "      <td>26</td>\n",
              "      <td>3949</td>\n",
              "    </tr>\n",
              "    <tr>\n",
              "      <th>3</th>\n",
              "      <td>2020-07-06</td>\n",
              "      <td>196</td>\n",
              "      <td>12</td>\n",
              "      <td>14</td>\n",
              "      <td>1104</td>\n",
              "    </tr>\n",
              "    <tr>\n",
              "      <th>4</th>\n",
              "      <td>2020-07-07</td>\n",
              "      <td>223</td>\n",
              "      <td>16</td>\n",
              "      <td>21</td>\n",
              "      <td>2312</td>\n",
              "    </tr>\n",
              "    <tr>\n",
              "      <th>5</th>\n",
              "      <td>2020-07-08</td>\n",
              "      <td>484</td>\n",
              "      <td>27</td>\n",
              "      <td>31</td>\n",
              "      <td>7489</td>\n",
              "    </tr>\n",
              "    <tr>\n",
              "      <th>6</th>\n",
              "      <td>2020-07-09</td>\n",
              "      <td>480</td>\n",
              "      <td>30</td>\n",
              "      <td>35</td>\n",
              "      <td>5552</td>\n",
              "    </tr>\n",
              "    <tr>\n",
              "      <th>7</th>\n",
              "      <td>2020-07-10</td>\n",
              "      <td>355</td>\n",
              "      <td>28</td>\n",
              "      <td>28</td>\n",
              "      <td>3137</td>\n",
              "    </tr>\n",
              "  </tbody>\n",
              "</table>\n",
              "</div>"
            ],
            "text/plain": [
              "         date  pageviews  yes   no  hours\n",
              "0  2020-07-03       1545  104  129  23177\n",
              "1  2020-07-04        426   30   38   4164\n",
              "2  2020-07-05        362   17   26   3949\n",
              "3  2020-07-06        196   12   14   1104\n",
              "4  2020-07-07        223   16   21   2312\n",
              "5  2020-07-08        484   27   31   7489\n",
              "6  2020-07-09        480   30   35   5552\n",
              "7  2020-07-10        355   28   28   3137"
            ]
          },
          "metadata": {
            "tags": []
          },
          "execution_count": 9
        }
      ]
    },
    {
      "cell_type": "markdown",
      "metadata": {
        "id": "ZBBtF9F0NnGf",
        "colab_type": "text"
      },
      "source": [
        "## Number summaries and basic investigations"
      ]
    },
    {
      "cell_type": "code",
      "metadata": {
        "id": "9QyW6nZQNf-M",
        "colab_type": "code",
        "colab": {
          "base_uri": "https://localhost:8080/",
          "height": 286
        },
        "outputId": "19ad4f06-1261-44a3-d388-3f7c4cf59401"
      },
      "source": [
        "exposed_data.info()"
      ],
      "execution_count": 313,
      "outputs": [
        {
          "output_type": "stream",
          "text": [
            "<class 'pandas.core.frame.DataFrame'>\n",
            "RangeIndex: 4006 entries, 0 to 4005\n",
            "Data columns (total 9 columns):\n",
            " #   Column       Non-Null Count  Dtype \n",
            "---  ------       --------------  ----- \n",
            " 0   auction_id   4006 non-null   object\n",
            " 1   experiment   4006 non-null   object\n",
            " 2   date         4006 non-null   object\n",
            " 3   hour         4006 non-null   int64 \n",
            " 4   device_make  4006 non-null   object\n",
            " 5   platform_os  4006 non-null   int64 \n",
            " 6   browser      4006 non-null   object\n",
            " 7   yes          4006 non-null   int64 \n",
            " 8   no           4006 non-null   int64 \n",
            "dtypes: int64(4), object(5)\n",
            "memory usage: 281.8+ KB\n"
          ],
          "name": "stdout"
        }
      ]
    },
    {
      "cell_type": "code",
      "metadata": {
        "id": "g8mgzv_TNuc_",
        "colab_type": "code",
        "colab": {
          "base_uri": "https://localhost:8080/",
          "height": 286
        },
        "outputId": "436a3abd-0387-46b2-bd37-de2d3b4f3460"
      },
      "source": [
        "control_data.info()"
      ],
      "execution_count": 314,
      "outputs": [
        {
          "output_type": "stream",
          "text": [
            "<class 'pandas.core.frame.DataFrame'>\n",
            "RangeIndex: 4071 entries, 0 to 4070\n",
            "Data columns (total 9 columns):\n",
            " #   Column       Non-Null Count  Dtype \n",
            "---  ------       --------------  ----- \n",
            " 0   auction_id   4071 non-null   object\n",
            " 1   experiment   4071 non-null   object\n",
            " 2   date         4071 non-null   object\n",
            " 3   hour         4071 non-null   int64 \n",
            " 4   device_make  4071 non-null   object\n",
            " 5   platform_os  4071 non-null   int64 \n",
            " 6   browser      4071 non-null   object\n",
            " 7   yes          4071 non-null   int64 \n",
            " 8   no           4071 non-null   int64 \n",
            "dtypes: int64(4), object(5)\n",
            "memory usage: 286.4+ KB\n"
          ],
          "name": "stdout"
        }
      ]
    },
    {
      "cell_type": "code",
      "metadata": {
        "id": "0rTlRAZRNwvv",
        "colab_type": "code",
        "colab": {
          "base_uri": "https://localhost:8080/",
          "height": 185
        },
        "outputId": "6dcd96e5-35c0-4837-ee13-e18ca984c8a9"
      },
      "source": [
        "exposed_data.isna().sum()"
      ],
      "execution_count": 315,
      "outputs": [
        {
          "output_type": "execute_result",
          "data": {
            "text/plain": [
              "auction_id     0\n",
              "experiment     0\n",
              "date           0\n",
              "hour           0\n",
              "device_make    0\n",
              "platform_os    0\n",
              "browser        0\n",
              "yes            0\n",
              "no             0\n",
              "dtype: int64"
            ]
          },
          "metadata": {
            "tags": []
          },
          "execution_count": 315
        }
      ]
    },
    {
      "cell_type": "code",
      "metadata": {
        "id": "DT_afjiLN5qU",
        "colab_type": "code",
        "colab": {
          "base_uri": "https://localhost:8080/",
          "height": 185
        },
        "outputId": "f7c6daf6-c552-4f26-d031-8e59b3de245e"
      },
      "source": [
        "control_data.isna().sum()"
      ],
      "execution_count": 316,
      "outputs": [
        {
          "output_type": "execute_result",
          "data": {
            "text/plain": [
              "auction_id     0\n",
              "experiment     0\n",
              "date           0\n",
              "hour           0\n",
              "device_make    0\n",
              "platform_os    0\n",
              "browser        0\n",
              "yes            0\n",
              "no             0\n",
              "dtype: int64"
            ]
          },
          "metadata": {
            "tags": []
          },
          "execution_count": 316
        }
      ]
    },
    {
      "cell_type": "markdown",
      "metadata": {
        "id": "3EGEBbCEOAFi",
        "colab_type": "text"
      },
      "source": [
        "## Data wrangling"
      ]
    },
    {
      "cell_type": "code",
      "metadata": {
        "id": "hiZT02y2EKfg",
        "colab_type": "code",
        "colab": {
          "base_uri": "https://localhost:8080/",
          "height": 343
        },
        "outputId": "b2655702-82a5-4c9b-e4e2-518e3221a313"
      },
      "source": [
        "data_total1 = pd.concat([control_data, exposed_data])\n",
        "data_total1.sample(10)"
      ],
      "execution_count": 10,
      "outputs": [
        {
          "output_type": "execute_result",
          "data": {
            "text/html": [
              "<div>\n",
              "<style scoped>\n",
              "    .dataframe tbody tr th:only-of-type {\n",
              "        vertical-align: middle;\n",
              "    }\n",
              "\n",
              "    .dataframe tbody tr th {\n",
              "        vertical-align: top;\n",
              "    }\n",
              "\n",
              "    .dataframe thead th {\n",
              "        text-align: right;\n",
              "    }\n",
              "</style>\n",
              "<table border=\"1\" class=\"dataframe\">\n",
              "  <thead>\n",
              "    <tr style=\"text-align: right;\">\n",
              "      <th></th>\n",
              "      <th>auction_id</th>\n",
              "      <th>experiment</th>\n",
              "      <th>date</th>\n",
              "      <th>hour</th>\n",
              "      <th>device_make</th>\n",
              "      <th>platform_os</th>\n",
              "      <th>browser</th>\n",
              "      <th>yes</th>\n",
              "      <th>no</th>\n",
              "    </tr>\n",
              "  </thead>\n",
              "  <tbody>\n",
              "    <tr>\n",
              "      <th>3211</th>\n",
              "      <td>cbd3b031-39f6-4fc0-914c-7eefff97abda</td>\n",
              "      <td>exposed</td>\n",
              "      <td>2020-07-05</td>\n",
              "      <td>7</td>\n",
              "      <td>Generic Smartphone</td>\n",
              "      <td>6</td>\n",
              "      <td>Chrome Mobile</td>\n",
              "      <td>0</td>\n",
              "      <td>0</td>\n",
              "    </tr>\n",
              "    <tr>\n",
              "      <th>1228</th>\n",
              "      <td>508ccd3a-35a8-4e45-a77d-d9091ab86cdb</td>\n",
              "      <td>exposed</td>\n",
              "      <td>2020-07-05</td>\n",
              "      <td>8</td>\n",
              "      <td>Generic Smartphone</td>\n",
              "      <td>6</td>\n",
              "      <td>Chrome Mobile</td>\n",
              "      <td>0</td>\n",
              "      <td>1</td>\n",
              "    </tr>\n",
              "    <tr>\n",
              "      <th>657</th>\n",
              "      <td>2c085ba3-2fae-446d-8a30-8c359b11adcc</td>\n",
              "      <td>exposed</td>\n",
              "      <td>2020-07-04</td>\n",
              "      <td>14</td>\n",
              "      <td>Generic Smartphone</td>\n",
              "      <td>6</td>\n",
              "      <td>Chrome Mobile</td>\n",
              "      <td>0</td>\n",
              "      <td>0</td>\n",
              "    </tr>\n",
              "    <tr>\n",
              "      <th>3107</th>\n",
              "      <td>c5a88e96-5ae7-4088-bf70-5f8d14838459</td>\n",
              "      <td>exposed</td>\n",
              "      <td>2020-07-05</td>\n",
              "      <td>4</td>\n",
              "      <td>Samsung SM-N960F</td>\n",
              "      <td>6</td>\n",
              "      <td>Facebook</td>\n",
              "      <td>0</td>\n",
              "      <td>0</td>\n",
              "    </tr>\n",
              "    <tr>\n",
              "      <th>790</th>\n",
              "      <td>34e77b7b-3883-40ed-aa6c-431693720856</td>\n",
              "      <td>exposed</td>\n",
              "      <td>2020-07-06</td>\n",
              "      <td>8</td>\n",
              "      <td>Generic Smartphone</td>\n",
              "      <td>6</td>\n",
              "      <td>Chrome Mobile</td>\n",
              "      <td>0</td>\n",
              "      <td>0</td>\n",
              "    </tr>\n",
              "    <tr>\n",
              "      <th>116</th>\n",
              "      <td>078947a9-2040-4f77-ba3e-b6b7df1f1434</td>\n",
              "      <td>exposed</td>\n",
              "      <td>2020-07-08</td>\n",
              "      <td>20</td>\n",
              "      <td>Generic Smartphone</td>\n",
              "      <td>6</td>\n",
              "      <td>Chrome Mobile WebView</td>\n",
              "      <td>0</td>\n",
              "      <td>0</td>\n",
              "    </tr>\n",
              "    <tr>\n",
              "      <th>2553</th>\n",
              "      <td>a4015637-4710-4ea6-b9dc-f857eeeeec43</td>\n",
              "      <td>exposed</td>\n",
              "      <td>2020-07-08</td>\n",
              "      <td>19</td>\n",
              "      <td>Generic Smartphone</td>\n",
              "      <td>6</td>\n",
              "      <td>Chrome Mobile</td>\n",
              "      <td>1</td>\n",
              "      <td>0</td>\n",
              "    </tr>\n",
              "    <tr>\n",
              "      <th>2208</th>\n",
              "      <td>8b5d5324-565f-4a15-bb94-215aba170123</td>\n",
              "      <td>control</td>\n",
              "      <td>2020-07-09</td>\n",
              "      <td>17</td>\n",
              "      <td>Samsung SM-A505FN</td>\n",
              "      <td>6</td>\n",
              "      <td>Facebook</td>\n",
              "      <td>0</td>\n",
              "      <td>0</td>\n",
              "    </tr>\n",
              "    <tr>\n",
              "      <th>174</th>\n",
              "      <td>0a431ec7-b60a-44a2-8393-529489c6ce7f</td>\n",
              "      <td>control</td>\n",
              "      <td>2020-07-03</td>\n",
              "      <td>15</td>\n",
              "      <td>Generic Smartphone</td>\n",
              "      <td>6</td>\n",
              "      <td>Chrome Mobile</td>\n",
              "      <td>0</td>\n",
              "      <td>1</td>\n",
              "    </tr>\n",
              "    <tr>\n",
              "      <th>2949</th>\n",
              "      <td>bba19c04-437d-4be9-affd-a3bf913767f7</td>\n",
              "      <td>exposed</td>\n",
              "      <td>2020-07-09</td>\n",
              "      <td>8</td>\n",
              "      <td>Generic Smartphone</td>\n",
              "      <td>6</td>\n",
              "      <td>Chrome Mobile</td>\n",
              "      <td>0</td>\n",
              "      <td>0</td>\n",
              "    </tr>\n",
              "  </tbody>\n",
              "</table>\n",
              "</div>"
            ],
            "text/plain": [
              "                                auction_id experiment  ... yes  no\n",
              "3211  cbd3b031-39f6-4fc0-914c-7eefff97abda    exposed  ...   0   0\n",
              "1228  508ccd3a-35a8-4e45-a77d-d9091ab86cdb    exposed  ...   0   1\n",
              "657   2c085ba3-2fae-446d-8a30-8c359b11adcc    exposed  ...   0   0\n",
              "3107  c5a88e96-5ae7-4088-bf70-5f8d14838459    exposed  ...   0   0\n",
              "790   34e77b7b-3883-40ed-aa6c-431693720856    exposed  ...   0   0\n",
              "116   078947a9-2040-4f77-ba3e-b6b7df1f1434    exposed  ...   0   0\n",
              "2553  a4015637-4710-4ea6-b9dc-f857eeeeec43    exposed  ...   1   0\n",
              "2208  8b5d5324-565f-4a15-bb94-215aba170123    control  ...   0   0\n",
              "174   0a431ec7-b60a-44a2-8393-529489c6ce7f    control  ...   0   1\n",
              "2949  bba19c04-437d-4be9-affd-a3bf913767f7    exposed  ...   0   0\n",
              "\n",
              "[10 rows x 9 columns]"
            ]
          },
          "metadata": {
            "tags": []
          },
          "execution_count": 10
        }
      ]
    },
    {
      "cell_type": "code",
      "metadata": {
        "id": "Ymw-t-giOipu",
        "colab_type": "code",
        "colab": {}
      },
      "source": [
        "data_total1['experiment'] = pd.factorize(data_total1.experiment)[0]"
      ],
      "execution_count": 11,
      "outputs": []
    },
    {
      "cell_type": "code",
      "metadata": {
        "id": "NuTAF6VZz-lt",
        "colab_type": "code",
        "colab": {}
      },
      "source": [
        "from sklearn import preprocessing \n",
        "  \n",
        "# label_encoder object knows how to understand word labels. \n",
        "label_encoder = preprocessing.LabelEncoder() \n",
        "  \n",
        "# Encode labels in column 'species'. \n",
        "data_total1['device_make']= label_encoder.fit_transform(data_total1['device_make']) "
      ],
      "execution_count": 12,
      "outputs": []
    },
    {
      "cell_type": "code",
      "metadata": {
        "id": "gTjTYoo60tzv",
        "colab_type": "code",
        "colab": {}
      },
      "source": [
        "# Encode labels in column 'species'. \n",
        "data_total1['browser']= label_encoder.fit_transform(data_total1['browser']) "
      ],
      "execution_count": 14,
      "outputs": []
    },
    {
      "cell_type": "code",
      "metadata": {
        "id": "w_6JVAaP07cv",
        "colab_type": "code",
        "colab": {}
      },
      "source": [
        "# Encode labels in column 'species'. \n",
        "data_total1['date']= label_encoder.fit_transform(data_total1['date']) "
      ],
      "execution_count": 16,
      "outputs": []
    },
    {
      "cell_type": "code",
      "metadata": {
        "id": "faE0wRUYQx02",
        "colab_type": "code",
        "colab": {
          "base_uri": "https://localhost:8080/",
          "height": 402
        },
        "outputId": "05afbf73-d4f8-43fd-f6e1-e02f3affb593"
      },
      "source": [
        "data_total1"
      ],
      "execution_count": 17,
      "outputs": [
        {
          "output_type": "execute_result",
          "data": {
            "text/html": [
              "<div>\n",
              "<style scoped>\n",
              "    .dataframe tbody tr th:only-of-type {\n",
              "        vertical-align: middle;\n",
              "    }\n",
              "\n",
              "    .dataframe tbody tr th {\n",
              "        vertical-align: top;\n",
              "    }\n",
              "\n",
              "    .dataframe thead th {\n",
              "        text-align: right;\n",
              "    }\n",
              "</style>\n",
              "<table border=\"1\" class=\"dataframe\">\n",
              "  <thead>\n",
              "    <tr style=\"text-align: right;\">\n",
              "      <th></th>\n",
              "      <th>auction_id</th>\n",
              "      <th>experiment</th>\n",
              "      <th>date</th>\n",
              "      <th>hour</th>\n",
              "      <th>device_make</th>\n",
              "      <th>platform_os</th>\n",
              "      <th>browser</th>\n",
              "      <th>yes</th>\n",
              "      <th>no</th>\n",
              "    </tr>\n",
              "  </thead>\n",
              "  <tbody>\n",
              "    <tr>\n",
              "      <th>0</th>\n",
              "      <td>00187412-2932-4542-a8ef-3633901c98d9</td>\n",
              "      <td>0</td>\n",
              "      <td>0</td>\n",
              "      <td>15</td>\n",
              "      <td>137</td>\n",
              "      <td>6</td>\n",
              "      <td>6</td>\n",
              "      <td>0</td>\n",
              "      <td>0</td>\n",
              "    </tr>\n",
              "    <tr>\n",
              "      <th>1</th>\n",
              "      <td>001a7785-d3fe-4e11-a344-c8735acacc2c</td>\n",
              "      <td>0</td>\n",
              "      <td>0</td>\n",
              "      <td>15</td>\n",
              "      <td>46</td>\n",
              "      <td>6</td>\n",
              "      <td>2</td>\n",
              "      <td>0</td>\n",
              "      <td>0</td>\n",
              "    </tr>\n",
              "    <tr>\n",
              "      <th>2</th>\n",
              "      <td>0027ce48-d3c6-4935-bb12-dfb5d5627857</td>\n",
              "      <td>0</td>\n",
              "      <td>0</td>\n",
              "      <td>15</td>\n",
              "      <td>177</td>\n",
              "      <td>6</td>\n",
              "      <td>6</td>\n",
              "      <td>0</td>\n",
              "      <td>0</td>\n",
              "    </tr>\n",
              "    <tr>\n",
              "      <th>3</th>\n",
              "      <td>002e308b-1a07-49d6-8560-0fbcdcd71e4b</td>\n",
              "      <td>0</td>\n",
              "      <td>0</td>\n",
              "      <td>15</td>\n",
              "      <td>46</td>\n",
              "      <td>6</td>\n",
              "      <td>2</td>\n",
              "      <td>0</td>\n",
              "      <td>0</td>\n",
              "    </tr>\n",
              "    <tr>\n",
              "      <th>4</th>\n",
              "      <td>00393fb9-ca32-40c0-bfcb-1bd83f319820</td>\n",
              "      <td>0</td>\n",
              "      <td>6</td>\n",
              "      <td>5</td>\n",
              "      <td>184</td>\n",
              "      <td>6</td>\n",
              "      <td>6</td>\n",
              "      <td>0</td>\n",
              "      <td>0</td>\n",
              "    </tr>\n",
              "    <tr>\n",
              "      <th>...</th>\n",
              "      <td>...</td>\n",
              "      <td>...</td>\n",
              "      <td>...</td>\n",
              "      <td>...</td>\n",
              "      <td>...</td>\n",
              "      <td>...</td>\n",
              "      <td>...</td>\n",
              "      <td>...</td>\n",
              "      <td>...</td>\n",
              "    </tr>\n",
              "    <tr>\n",
              "      <th>4001</th>\n",
              "      <td>ffbc02cb-628a-4de5-87fc-5d76b7d796e5</td>\n",
              "      <td>1</td>\n",
              "      <td>6</td>\n",
              "      <td>17</td>\n",
              "      <td>46</td>\n",
              "      <td>6</td>\n",
              "      <td>2</td>\n",
              "      <td>0</td>\n",
              "      <td>0</td>\n",
              "    </tr>\n",
              "    <tr>\n",
              "      <th>4002</th>\n",
              "      <td>ffc594ef-756c-4d24-a310-0d8eb4e11eb7</td>\n",
              "      <td>1</td>\n",
              "      <td>2</td>\n",
              "      <td>1</td>\n",
              "      <td>171</td>\n",
              "      <td>6</td>\n",
              "      <td>3</td>\n",
              "      <td>0</td>\n",
              "      <td>0</td>\n",
              "    </tr>\n",
              "    <tr>\n",
              "      <th>4003</th>\n",
              "      <td>ffdfdc09-48c7-4bfb-80f8-ec1eb633602b</td>\n",
              "      <td>1</td>\n",
              "      <td>0</td>\n",
              "      <td>4</td>\n",
              "      <td>46</td>\n",
              "      <td>6</td>\n",
              "      <td>2</td>\n",
              "      <td>0</td>\n",
              "      <td>1</td>\n",
              "    </tr>\n",
              "    <tr>\n",
              "      <th>4004</th>\n",
              "      <td>ffea24ec-cec1-43fb-b1d1-8f93828c2be2</td>\n",
              "      <td>1</td>\n",
              "      <td>2</td>\n",
              "      <td>7</td>\n",
              "      <td>46</td>\n",
              "      <td>6</td>\n",
              "      <td>2</td>\n",
              "      <td>0</td>\n",
              "      <td>0</td>\n",
              "    </tr>\n",
              "    <tr>\n",
              "      <th>4005</th>\n",
              "      <td>ffeeed62-3f7c-4a6e-8ba7-95d303d40969</td>\n",
              "      <td>1</td>\n",
              "      <td>2</td>\n",
              "      <td>15</td>\n",
              "      <td>130</td>\n",
              "      <td>6</td>\n",
              "      <td>14</td>\n",
              "      <td>0</td>\n",
              "      <td>0</td>\n",
              "    </tr>\n",
              "  </tbody>\n",
              "</table>\n",
              "<p>8077 rows × 9 columns</p>\n",
              "</div>"
            ],
            "text/plain": [
              "                                auction_id  experiment  date  ...  browser  yes  no\n",
              "0     00187412-2932-4542-a8ef-3633901c98d9           0     0  ...        6    0   0\n",
              "1     001a7785-d3fe-4e11-a344-c8735acacc2c           0     0  ...        2    0   0\n",
              "2     0027ce48-d3c6-4935-bb12-dfb5d5627857           0     0  ...        6    0   0\n",
              "3     002e308b-1a07-49d6-8560-0fbcdcd71e4b           0     0  ...        2    0   0\n",
              "4     00393fb9-ca32-40c0-bfcb-1bd83f319820           0     6  ...        6    0   0\n",
              "...                                    ...         ...   ...  ...      ...  ...  ..\n",
              "4001  ffbc02cb-628a-4de5-87fc-5d76b7d796e5           1     6  ...        2    0   0\n",
              "4002  ffc594ef-756c-4d24-a310-0d8eb4e11eb7           1     2  ...        3    0   0\n",
              "4003  ffdfdc09-48c7-4bfb-80f8-ec1eb633602b           1     0  ...        2    0   1\n",
              "4004  ffea24ec-cec1-43fb-b1d1-8f93828c2be2           1     2  ...        2    0   0\n",
              "4005  ffeeed62-3f7c-4a6e-8ba7-95d303d40969           1     2  ...       14    0   0\n",
              "\n",
              "[8077 rows x 9 columns]"
            ]
          },
          "metadata": {
            "tags": []
          },
          "execution_count": 17
        }
      ]
    },
    {
      "cell_type": "code",
      "metadata": {
        "id": "vHC6fkjgESa4",
        "colab_type": "code",
        "colab": {}
      },
      "source": [
        "# Getting the features we need\n",
        "data=data_total1[['hour','platform_os','date','browser','experiment','yes','no']]"
      ],
      "execution_count": 29,
      "outputs": []
    },
    {
      "cell_type": "code",
      "metadata": {
        "id": "48eqm3PalJ_4",
        "colab_type": "code",
        "colab": {}
      },
      "source": [
        "# Splitting the data according to features and the target feature\n",
        "X1 = data.drop('yes', axis=1) #prediction features\n",
        "y1 = data['yes'] #target feature"
      ],
      "execution_count": 30,
      "outputs": []
    },
    {
      "cell_type": "code",
      "metadata": {
        "id": "PvynTx5Tvvy6",
        "colab_type": "code",
        "colab": {}
      },
      "source": [
        "# Splitting our dataset into training and testing dataset\n",
        "X1_train, X1_test, y1_train, y1_test = train_test_split(X1, y1, test_size=0.20) #training set 80% and test set 20%"
      ],
      "execution_count": 31,
      "outputs": []
    },
    {
      "cell_type": "markdown",
      "metadata": {
        "id": "8zbbMPtJ6hN8",
        "colab_type": "text"
      },
      "source": [
        "## **K-Fold Cross-validation**"
      ]
    },
    {
      "cell_type": "markdown",
      "metadata": {
        "id": "8iANQfCN7ISr",
        "colab_type": "text"
      },
      "source": [
        "Cross-validation is a resampling procedure used to evaluate machine learning models on a limited data sample.\n",
        "\n",
        "The procedure has a single parameter called k that refers to the number of groups that a given data sample is to be split into. As such, the procedure is often called k-fold cross-validation.\n",
        "Cross-validation is primarily used in applied machine learning to estimate the skill of a machine learning model on unseen data. That is, to use a limited sample in order to estimate how the model is expected to perform in general when used to make predictions on data not used during the training of the model.\n",
        "In this section, we will use it to determine the performance of these models on the BIO data:\n",
        "\n",
        "\n",
        "*   Logistic Regression\n",
        "*   Decision Tree\n",
        "*   XGBoost\n",
        "\n"
      ]
    },
    {
      "cell_type": "markdown",
      "metadata": {
        "id": "vp314Piy6050",
        "colab_type": "text"
      },
      "source": [
        "## 1. Logistic Regression"
      ]
    },
    {
      "cell_type": "code",
      "metadata": {
        "id": "0qkA8hqRQECd",
        "colab_type": "code",
        "colab": {
          "base_uri": "https://localhost:8080/",
          "height": 50
        },
        "outputId": "9dafe5a8-0c1f-450b-891a-a1a4cd8f768a"
      },
      "source": [
        "# Applying the K-fol Cross validation on logistic Regression model\n",
        "regressor=LogisticRegression(random_state=None)\n",
        "regressor.fit(X1_train,y1_train) \n",
        "scores=cross_val_score(estimator=regressor,X=X1_train,y=y1_train,cv=5,scoring='accuracy')\n",
        "print(scores)\n",
        "print('Mean LogisticRegression score :',scores.mean())"
      ],
      "execution_count": 32,
      "outputs": [
        {
          "output_type": "stream",
          "text": [
            "[0.92807425 0.92879257 0.92879257 0.92801858 0.92801858]\n",
            "Mean LogisticRegression score : 0.9283393073922694\n"
          ],
          "name": "stdout"
        }
      ]
    },
    {
      "cell_type": "code",
      "metadata": {
        "id": "d2PcQuUMa0TG",
        "colab_type": "code",
        "colab": {
          "base_uri": "https://localhost:8080/",
          "height": 268
        },
        "outputId": "db29ca68-4edc-4fee-d022-77b88b4676d0"
      },
      "source": [
        "scores1 = pd.DataFrame(scores,columns=['Scores']) #storing the results into pandas dataframe\n",
        "#plotting the accuracy score for the  different iteration\n",
        "sns.set(style=\"white\", rc={\"lines.linewidth\": 3})\n",
        "sns.barplot(x=['Iter1','Iter2','Iter3','Iter4','Iter5'],y=\"Scores\",data=scores1)\n",
        "plt.show()\n",
        "sns.set()"
      ],
      "execution_count": 33,
      "outputs": [
        {
          "output_type": "display_data",
          "data": {
            "image/png": "[encoded data removed]",
            "text/plain": [
              "<Figure size 432x288 with 1 Axes>"
            ]
          },
          "metadata": {
            "tags": []
          }
        }
      ]
    },
    {
      "cell_type": "markdown",
      "metadata": {
        "id": "3oM3q7-Wg-lE",
        "colab_type": "text"
      },
      "source": [
        "## Logistic Regression Feature importance\n",
        "Feature importance refers to techniques that assign a score to input features based on how useful they are at predicting a target variable.\n",
        "Feature importance scores play an important role in a predictive modeling project, including providing insight into the data, insight into the model, and the basis for dimensionality reduction and feature selection that can improve the efficiency and effectiveness of a predictive model on the problem.\n",
        "In this section we are going to calcualte the importance of the features in our BIo data in logistic regression"
      ]
    },
    {
      "cell_type": "code",
      "metadata": {
        "id": "7ZydCGfQgxgo",
        "colab_type": "code",
        "colab": {
          "base_uri": "https://localhost:8080/",
          "height": 34
        },
        "outputId": "7a1b449b-1301-4c87-fbf2-901be2006e0a"
      },
      "source": [
        "#feature coefficients\n",
        "regressor.fit(X1 / np.std(X1, 0), y1)\n",
        "print(regressor.coef_)"
      ],
      "execution_count": 34,
      "outputs": [
        {
          "output_type": "stream",
          "text": [
            "[[ 0.05529597  0.42625459 -0.07073878  0.06806557  0.1071433  -1.38768786]]\n"
          ],
          "name": "stdout"
        }
      ]
    },
    {
      "cell_type": "code",
      "metadata": {
        "id": "y0q0CHB1-N96",
        "colab_type": "code",
        "colab": {
          "base_uri": "https://localhost:8080/",
          "height": 369
        },
        "outputId": "1676d700-3fe6-4066-d082-4c0011989d01"
      },
      "source": [
        "#plotting the feature importance\n",
        "#The coefficients are both positive and negative.\n",
        "# logistic regression for feature importance\n",
        "\n",
        "# define the model\n",
        "model = LogisticRegression()\n",
        "# fit the model\n",
        "model.fit(X1, y1)\n",
        "# get importance\n",
        "importance = model.coef_[0]\n",
        "# summarize feature importance\n",
        "for i,v in enumerate(importance):\n",
        "\tprint('Feature: %0d, Score: %.5f' % (i,v))\n",
        "# plot feature importance\n",
        "pyplot.bar([x for x in range(len(importance))], importance)\n",
        "pyplot.show()"
      ],
      "execution_count": 35,
      "outputs": [
        {
          "output_type": "stream",
          "text": [
            "Feature: 0, Score: 0.00982\n",
            "Feature: 1, Score: 1.64935\n",
            "Feature: 2, Score: -0.02762\n",
            "Feature: 3, Score: 0.01755\n",
            "Feature: 4, Score: 0.21439\n",
            "Feature: 5, Score: -2.97435\n"
          ],
          "name": "stdout"
        },
        {
          "output_type": "display_data",
          "data": {
            "image/png": "[encoded data removed]",
            "text/plain": [
              "<Figure size 432x288 with 1 Axes>"
            ]
          },
          "metadata": {
            "tags": []
          }
        }
      ]
    },
    {
      "cell_type": "markdown",
      "metadata": {
        "id": "5lsW022O8dI8",
        "colab_type": "text"
      },
      "source": [
        "## 2. Decision Tree"
      ]
    },
    {
      "cell_type": "code",
      "metadata": {
        "id": "4Xz7JCPVcbfS",
        "colab_type": "code",
        "colab": {
          "base_uri": "https://localhost:8080/",
          "height": 50
        },
        "outputId": "861575a0-5f6a-4d9f-af6d-9be48f45fd5e"
      },
      "source": [
        "#Applying k-fold Cross validation on Decision tree\n",
        "clf = tree.DecisionTreeClassifier()\n",
        "clf.fit(X1_train,y1_train)\n",
        "clf_scores=cross_val_score(estimator=clf,X=X1_train,y=y1_train,cv=5,scoring='accuracy')\n",
        "print(clf_scores)\n",
        "print('Mean clf score :',clf_scores.mean())"
      ],
      "execution_count": 36,
      "outputs": [
        {
          "output_type": "stream",
          "text": [
            "[0.91647332 0.91486068 0.91873065 0.91640867 0.91563467]\n",
            "Mean clf score : 0.9164215985576059\n"
          ],
          "name": "stdout"
        }
      ]
    },
    {
      "cell_type": "code",
      "metadata": {
        "id": "XTdAgb3TdspD",
        "colab_type": "code",
        "colab": {
          "base_uri": "https://localhost:8080/",
          "height": 268
        },
        "outputId": "c8755be3-1c3b-4d7d-cb84-f550ad49ffd6"
      },
      "source": [
        "scores2 = pd.DataFrame(clf_scores,columns=['Scores']) # saving the results into pandas dataframe\n",
        " # plotting the scores\n",
        "sns.set(style=\"white\", rc={\"lines.linewidth\": 3})\n",
        "sns.barplot(x=['Iter1','Iter2','Iter3','Iter4','Iter5'],y=\"Scores\",data=scores2)\n",
        "plt.show()\n",
        "sns.set()"
      ],
      "execution_count": 37,
      "outputs": [
        {
          "output_type": "display_data",
          "data": {
            "image/png": "[encoded data removed]",
            "text/plain": [
              "<Figure size 432x288 with 1 Axes>"
            ]
          },
          "metadata": {
            "tags": []
          }
        }
      ]
    },
    {
      "cell_type": "markdown",
      "metadata": {
        "id": "8Zi2PxfH_1Su",
        "colab_type": "text"
      },
      "source": [
        "## Decision Tree Feature importance"
      ]
    },
    {
      "cell_type": "code",
      "metadata": {
        "id": "WnIeHsMr_hqq",
        "colab_type": "code",
        "colab": {
          "base_uri": "https://localhost:8080/",
          "height": 369
        },
        "outputId": "b51e8bcd-71e3-45c9-9a33-f8227cdf6e20"
      },
      "source": [
        "\n",
        "\n",
        "# calculating and plotting the feature importance\n",
        "\n",
        "# define the model\n",
        "model = DecisionTreeClassifier()\n",
        "# fit the model\n",
        "model.fit(X1, y1)\n",
        "# get importance\n",
        "importance = model.feature_importances_\n",
        "# summarize feature importance\n",
        "for i,v in enumerate(importance):\n",
        "\tprint('Feature: %0d, Score: %.5f' % (i,v))\n",
        "# plot feature importance\n",
        "pyplot.bar([x for x in range(len(importance))], importance)\n",
        "pyplot.show()"
      ],
      "execution_count": 38,
      "outputs": [
        {
          "output_type": "stream",
          "text": [
            "Feature: 0, Score: 0.46119\n",
            "Feature: 1, Score: 0.02111\n",
            "Feature: 2, Score: 0.23677\n",
            "Feature: 3, Score: 0.15795\n",
            "Feature: 4, Score: 0.08260\n",
            "Feature: 5, Score: 0.04038\n"
          ],
          "name": "stdout"
        },
        {
          "output_type": "display_data",
          "data": {
            "image/png": "[encoded data removed]",
            "text/plain": [
              "<Figure size 432x288 with 1 Axes>"
            ]
          },
          "metadata": {
            "tags": []
          }
        }
      ]
    },
    {
      "cell_type": "code",
      "metadata": {
        "id": "nBLrwdMGhPlZ",
        "colab_type": "code",
        "colab": {}
      },
      "source": [
        "\n",
        "def dt_feature_importance(model,normalize=True):\n",
        "\n",
        "    left_c = model.tree_.children_left\n",
        "    right_c = model.tree_.children_right\n",
        "\n",
        "    impurity = model.tree_.impurity    \n",
        "    node_samples = model.tree_.weighted_n_node_samples \n",
        "\n",
        "    # Initialize the feature importance, those not used remain zero\n",
        "    feature_importance = np.zeros((model.tree_.n_features,))\n",
        "\n",
        "    for idx,node in enumerate(model.tree_.feature):\n",
        "        if node >= 0:\n",
        "            # Accumulate the feature importance over all the nodes where it's used\n",
        "            feature_importance[node]+=impurity[idx]*node_samples[idx]- \\\n",
        "                                   impurity[left_c[idx]]*node_samples[left_c[idx]]-\\\n",
        "                                   impurity[right_c[idx]]*node_samples[right_c[idx]]\n",
        "\n",
        "    # Number of samples at the root node\n",
        "    feature_importance/=node_samples[0]\n",
        "\n",
        "    if normalize:\n",
        "        normalizer = feature_importance.sum()\n",
        "        if normalizer > 0:\n",
        "            feature_importance/=normalizer\n",
        "\n",
        "    return feature_importance"
      ],
      "execution_count": 330,
      "outputs": []
    },
    {
      "cell_type": "code",
      "metadata": {
        "id": "ha_pBdEpihG3",
        "colab_type": "code",
        "colab": {}
      },
      "source": [
        "features = clf.tree_.feature[clf.tree_.feature>=0] # Feature number should not be negative, indicates a leaf node\n",
        "sorted(zip(features,dt_feature_importance(clf,False)[features]),key=lambda x:x[1],reverse=True)"
      ],
      "execution_count": null,
      "outputs": []
    },
    {
      "cell_type": "markdown",
      "metadata": {
        "id": "Y0BzLFGI9Mwu",
        "colab_type": "text"
      },
      "source": [
        "## 3. XGBoost"
      ]
    },
    {
      "cell_type": "code",
      "metadata": {
        "id": "tN_t6aUUnpV9",
        "colab_type": "code",
        "colab": {
          "base_uri": "https://localhost:8080/",
          "height": 34
        },
        "outputId": "4b96e843-6e00-4761-d5e9-cf12626cd50d"
      },
      "source": [
        "\n",
        "# k-fold cross validation evaluation of xgboost model\n",
        "# CV model\n",
        "model = xgboost.XGBClassifier()\n",
        "kfold = KFold(n_splits=5, random_state=None)\n",
        "results = cross_val_score(model, X1, y1, cv=kfold)\n",
        "print(\"Accuracy: %.2f%% (%.2f%%)\" % (results.mean()*100, results.std()*100)) # Percentage accuracy mean and standard deviation\n"
      ],
      "execution_count": 39,
      "outputs": [
        {
          "output_type": "stream",
          "text": [
            "Accuracy: 92.92% (1.15%)\n"
          ],
          "name": "stdout"
        }
      ]
    },
    {
      "cell_type": "markdown",
      "metadata": {
        "id": "c5RR3dx49jI3",
        "colab_type": "text"
      },
      "source": [
        "## XGBoost Feature importance"
      ]
    },
    {
      "cell_type": "code",
      "metadata": {
        "id": "nLlwejPWzn-c",
        "colab_type": "code",
        "colab": {
          "base_uri": "https://localhost:8080/",
          "height": 301
        },
        "outputId": "14fe2dd6-0ccd-4067-be81-be280ee7e85c"
      },
      "source": [
        "#Calculating the feature importance and plotting\n",
        "# plot feature importance using built-in function\n",
        "\n",
        "from xgboost import plot_importance\n",
        "\n",
        "# fit model no training data\n",
        "model = XGBClassifier()\n",
        "model.fit(X1, y1)\n",
        "# plot feature importance\n",
        "plot_importance(model)\n",
        "pyplot.show()"
      ],
      "execution_count": 40,
      "outputs": [
        {
          "output_type": "display_data",
          "data": {
            "image/png": "[encoded data removed]",
            "text/plain": [
              "<Figure size 432x288 with 1 Axes>"
            ]
          },
          "metadata": {
            "tags": []
          }
        }
      ]
    },
    {
      "cell_type": "markdown",
      "metadata": {
        "id": "SUzEXAXz9wCM",
        "colab_type": "text"
      },
      "source": [
        "## Loss function using the Validation set"
      ]
    },
    {
      "cell_type": "code",
      "metadata": {
        "id": "Um4NDeSx1o4Y",
        "colab_type": "code",
        "colab": {
          "base_uri": "https://localhost:8080/",
          "height": 301
        },
        "outputId": "dd72c519-33a6-4b5f-a206-a0152c570ae4"
      },
      "source": [
        "\n",
        "# mlp for regression with mse loss function\n",
        "# define model\n",
        "model = Sequential()\n",
        "model.add(Dense(25, input_dim=6, activation='relu', kernel_initializer='he_uniform'))\n",
        "model.add(Dense(1, activation='linear'))\n",
        "opt = SGD(lr=0.01, momentum=0.9)\n",
        "model.compile(loss='mean_squared_error', optimizer=opt)\n",
        "# fit model\n",
        "history = model.fit(X1_train,y1_train, validation_data=(X1_test,y1_test), epochs=100, verbose=0)\n",
        "# evaluate the model\n",
        "train_mse = model.evaluate(X1_train, y1_train, verbose=0)\n",
        "test_mse = model.evaluate(X1_test, y1_test, verbose=0)\n",
        "print('Train: %.3f, Test: %.3f' % (train_mse, test_mse))\n",
        "# plot loss during training\n",
        "pyplot.title('Loss / Mean Squared Error')\n",
        "pyplot.plot(history.history['loss'], label='train')\n",
        "pyplot.plot(history.history['val_loss'], label='test')\n",
        "pyplot.legend()\n",
        "pyplot.show()"
      ],
      "execution_count": 41,
      "outputs": [
        {
          "output_type": "stream",
          "text": [
            "Train: 0.067, Test: 0.063\n"
          ],
          "name": "stdout"
        },
        {
          "output_type": "display_data",
          "data": {
            "image/png": "[encoded data removed]",
            "text/plain": [
              "<Figure size 432x288 with 1 Axes>"
            ]
          },
          "metadata": {
            "tags": []
          }
        }
      ]
    }
  ]
}